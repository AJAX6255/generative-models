{
 "cells": [
  {
   "cell_type": "code",
   "execution_count": null,
   "metadata": {},
   "outputs": [],
   "source": [
    "\"\"\" (BayesGAN)\n",
    "\n",
    "From the authors:\n",
    "\"\n",
    "Bayesian GAN (Saatchi and Wilson, 2017) is a Bayesian formulation of Generative \n",
    "Adversarial Networks (Goodfellow, 2014) where we learn the distributions of the \n",
    "generator parameters $\\theta_g$ and the discriminator parameters $\\theta_d$ \n",
    "instead of optimizing for point estimates. The benefits of the Bayesian approach \n",
    "include the flexibility to model multimodality in the parameter space, as well \n",
    "as the ability to prevent mode collapse in the maximum likelihood (non-Bayesian) \n",
    "case.\n",
    "\n",
    "We learn Bayesian GAN via an approximate inference algorithm called Stochastic \n",
    "Gradient Hamiltonian Monte Carlo (SGHMC) which is a gradient-based MCMC methods \n",
    "whose samples approximate the true posterior distributions of $\\theta_g$ and \n",
    "$\\theta_d$. The Bayesian GAN training process starts from sampling noise $z$ \n",
    "from a fixed  distribution(typically standard d-dim normal). The noise is fed \n",
    "to the generator where the parameters  $\\theta_g$ are sampled from the posterior \n",
    "distribution $p(\\theta_g | D)$. The generated  image given the parameters \n",
    "$\\theta_g$ ($G(z|\\theta_g)$) as well as the real data are presented to the \n",
    "discriminator, whose parameters are sample from its posterior \n",
    "distribution $p(\\theta_d|D)$. We update the posteriors using the gradients \n",
    "$\\frac{\\partial \\log p(\\theta_g|D) }{\\partial \\theta_g }$ and \n",
    "$\\frac{\\partial \\log p(\\theta_d|D) }{\\partial \\theta_d }$ with \n",
    "Stochastic Gradient Hamiltonian Monte Carlo (SGHMC).\"\n",
    "\n",
    "SGHMC is fancy for using point estimates (as in most GANs) to infer the \n",
    "posteriors.\n",
    "\n",
    "https://arxiv.org/pdf/1705.09558.pdf\n",
    "\"\"\""
   ]
  }
 ],
 "metadata": {
  "kernelspec": {
   "display_name": "Python 3",
   "language": "python",
   "name": "python3"
  },
  "language_info": {
   "codemirror_mode": {
    "name": "ipython",
    "version": 3
   },
   "file_extension": ".py",
   "mimetype": "text/x-python",
   "name": "python",
   "nbconvert_exporter": "python",
   "pygments_lexer": "ipython3",
   "version": "3.6.5"
  }
 },
 "nbformat": 4,
 "nbformat_minor": 2
}
